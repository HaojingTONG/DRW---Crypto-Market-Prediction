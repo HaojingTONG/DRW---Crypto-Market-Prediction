{
 "cells": [
  {
   "cell_type": "code",
   "execution_count": 2,
   "id": "c1183006",
   "metadata": {},
   "outputs": [
    {
     "name": "stdout",
     "output_type": "stream",
     "text": [
      "                     bid_qty  ask_qty  buy_qty  sell_qty   volume        X1  \\\n",
      "timestamp                                                                     \n",
      "2023-03-01 00:00:00   15.283    8.425  176.405    44.984  221.389  0.121263   \n",
      "2023-03-01 00:01:00   38.590    2.336  525.846   321.950  847.796  0.302841   \n",
      "2023-03-01 00:02:00    0.442   60.250  159.227   136.369  295.596  0.167462   \n",
      "2023-03-01 00:03:00    4.865   21.016  335.742   124.963  460.705  0.072944   \n",
      "2023-03-01 00:04:00   27.158    3.451   98.411    44.407  142.818  0.173820   \n",
      "\n",
      "                           X2        X3        X4        X5  ...      X882  \\\n",
      "timestamp                                                    ...             \n",
      "2023-03-01 00:00:00 -0.417690  0.005399  0.125948  0.058359  ...  1.925423   \n",
      "2023-03-01 00:01:00 -0.049576  0.356667  0.481087  0.237954  ...  1.928569   \n",
      "2023-03-01 00:02:00 -0.291212  0.083138  0.206881  0.101727  ...  1.928047   \n",
      "2023-03-01 00:03:00 -0.436590 -0.102483  0.017551  0.007149  ...  1.928621   \n",
      "2023-03-01 00:04:00 -0.213489  0.096067  0.215709  0.107133  ...  1.927084   \n",
      "\n",
      "                         X883      X884      X885      X886      X887  \\\n",
      "timestamp                                                               \n",
      "2023-03-01 00:00:00  1.847943  0.005676  0.190791  0.369691  0.377630   \n",
      "2023-03-01 00:01:00  1.849468  0.005227  0.184660  0.363642  0.374515   \n",
      "2023-03-01 00:02:00  1.849282  0.004796  0.178719  0.357689  0.371424   \n",
      "2023-03-01 00:03:00  1.849608  0.004398  0.172967  0.351832  0.368358   \n",
      "2023-03-01 00:04:00  1.848950  0.004008  0.167391  0.346066  0.365314   \n",
      "\n",
      "                         X888      X889      X890     label  \n",
      "timestamp                                                    \n",
      "2023-03-01 00:00:00  0.210153  0.159183  0.530636  0.562539  \n",
      "2023-03-01 00:01:00  0.209573  0.158963  0.530269  0.533686  \n",
      "2023-03-01 00:02:00  0.208993  0.158744  0.529901  0.546505  \n",
      "2023-03-01 00:03:00  0.208416  0.158524  0.529534  0.357703  \n",
      "2023-03-01 00:04:00  0.207839  0.158304  0.529167  0.362452  \n",
      "\n",
      "[5 rows x 896 columns]\n",
      "<class 'pandas.core.frame.DataFrame'>\n",
      "DatetimeIndex: 525887 entries, 2023-03-01 00:00:00 to 2024-02-29 23:59:00\n",
      "Columns: 896 entries, bid_qty to label\n",
      "dtypes: float64(896)\n",
      "memory usage: 3.5 GB\n",
      "None\n"
     ]
    }
   ],
   "source": [
    "import pandas as pd\n",
    "\n",
    "# Load data\n",
    "train_df = pd.read_parquet(\"drw-crypto-market-prediction/train.parquet\")\n",
    "test_df = pd.read_parquet(\"drw-crypto-market-prediction/test.parquet\")\n",
    "\n",
    "# Quick overview\n",
    "print(train_df.head())\n",
    "print(train_df.info())"
   ]
  },
  {
   "cell_type": "code",
   "execution_count": null,
   "id": "11cb3710",
   "metadata": {},
   "outputs": [],
   "source": []
  }
 ],
 "metadata": {
  "kernelspec": {
   "display_name": "Python 3 (ipykernel)",
   "language": "python",
   "name": "python3"
  },
  "language_info": {
   "codemirror_mode": {
    "name": "ipython",
    "version": 3
   },
   "file_extension": ".py",
   "mimetype": "text/x-python",
   "name": "python",
   "nbconvert_exporter": "python",
   "pygments_lexer": "ipython3",
   "version": "3.11.5"
  }
 },
 "nbformat": 4,
 "nbformat_minor": 5
}
